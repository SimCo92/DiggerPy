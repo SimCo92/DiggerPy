{
 "cells": [
  {
   "cell_type": "code",
   "execution_count": 10,
   "metadata": {},
   "outputs": [],
   "source": [
    "from diggerpy.functions import get_search, get_master\n",
    "from diggerpy.utils import get_search_obj\n",
    "from diggerpy.models import SearchItem, Master"
   ]
  },
  {
   "cell_type": "code",
   "execution_count": 11,
   "metadata": {
    "pycharm": {
     "name": "#%%\n"
    }
   },
   "outputs": [],
   "source": [
    "from diggerpy.client import get_access_token\n",
    "# in case you want to renew the token\n",
    "# access_token = get_access_token()"
   ]
  },
  {
   "cell_type": "code",
   "execution_count": 12,
   "outputs": [],
   "source": [
    "query = {\n",
    "    \"title\" : \"I want to break free\",\n",
    "    \"artist\" : \"queen\"\n",
    "}\n",
    "query2 = {\n",
    "    \"q\" : \"I want to break free queen\",\n",
    "}\n",
    "\n",
    "query_str = \"Foremost Poets - Pressin On\""
   ],
   "metadata": {
    "collapsed": false,
    "pycharm": {
     "name": "#%%\n"
    }
   }
  },
  {
   "cell_type": "code",
   "execution_count": null,
   "outputs": [],
   "source": [
    "from os import listdir\n",
    "from os.path import isfile, join\n",
    "onlyfiles = [f for f in listdir(mypath) if isfile(join(mypath, f))]"
   ],
   "metadata": {
    "collapsed": false,
    "pycharm": {
     "name": "#%%\n"
    }
   }
  },
  {
   "cell_type": "code",
   "execution_count": 14,
   "metadata": {
    "pycharm": {
     "name": "#%%\n"
    }
   },
   "outputs": [
    {
     "data": {
      "text/plain": "{'country': 'Germany',\n 'year': '2000',\n 'format': ['Vinyl', '12\"', '45 RPM'],\n 'label': ['International Deejay Gigolo Records', 'Dubplates & Mastering'],\n 'type': 'release',\n 'genre': ['Electronic'],\n 'style': ['Electro', 'House'],\n 'id': 31530,\n 'barcode': [],\n 'user_data': {'in_wantlist': True, 'in_collection': False},\n 'master_id': 561562,\n 'master_url': 'https://api.discogs.com/masters/561562',\n 'uri': '/Foremost-Poets-Pressin-On/release/31530',\n 'catno': 'GIGOLO 41',\n 'title': 'Foremost Poets - Pressin On',\n 'thumb': 'https://img.discogs.com/kjkvQ7Tg7QiMXQJ8LCddyxuO8VU=/fit-in/150x150/filters:strip_icc():format(jpeg):mode_rgb():quality(40)/discogs-images/R-31530-1259241245.jpeg.jpg',\n 'cover_image': 'https://img.discogs.com/3h6I726gOFMSniExMSX2N0LdBqM=/fit-in/587x600/filters:strip_icc():format(jpeg):mode_rgb():quality(90)/discogs-images/R-31530-1259241245.jpeg.jpg',\n 'resource_url': 'https://api.discogs.com/releases/31530',\n 'community': {'want': 926, 'have': 523},\n 'format_quantity': 1,\n 'formats': [{'name': 'Vinyl', 'qty': '1', 'descriptions': ['12\"', '45 RPM']}]}"
     },
     "execution_count": 14,
     "metadata": {},
     "output_type": "execute_result"
    }
   ],
   "source": [
    "from diggerpy.secrets import access_token\n",
    "search_obj = get_search_obj(query_str)\n",
    "result = get_search(search_obj=search_obj, access_token=access_token)\n",
    "result[\"results\"][0]\n",
    "searchitem = SearchItem(**result[\"results\"][0])"
   ]
  },
  {
   "cell_type": "code",
   "execution_count": null,
   "outputs": [],
   "source": [],
   "metadata": {
    "collapsed": false,
    "pycharm": {
     "name": "#%%\n"
    }
   }
  },
  {
   "cell_type": "code",
   "execution_count": 6,
   "outputs": [],
   "source": [
    "# raw_master = get_master(search_obj=search_obj, access_token=access_token)\n",
    "# master = Master(**raw_master)"
   ],
   "metadata": {
    "collapsed": false,
    "pycharm": {
     "name": "#%%\n"
    }
   }
  },
  {
   "cell_type": "code",
   "execution_count": 9,
   "outputs": [
    {
     "data": {
      "text/plain": "\n                id = 561562,\n                main_release = 31530,\n                most_recent_release = 31530,\n                resource_url = https://api.discogs.com/masters/561562,\n                uri = https://www.discogs.com/master/561562-Foremost-Poets-Pressin-On,\n                versions_url = https://api.discogs.com/masters/561562/versions,\n                main_release_url = https://api.discogs.com/releases/31530,\n                most_recent_release_url = https://api.discogs.com/releases/31530,\n                num_for_sale = 16,\n                lowest_price = 45.28,\n                images = [{'type': 'primary', 'uri': 'https://img.discogs.com/3h6I726gOFMSniExMSX2N0LdBqM=/fit-in/587x600/filters:strip_icc():format(jpeg):mode_rgb():quality(90)/discogs-images/R-31530-1259241245.jpeg.jpg', 'resource_url': 'https://img.discogs.com/3h6I726gOFMSniExMSX2N0LdBqM=/fit-in/587x600/filters:strip_icc():format(jpeg):mode_rgb():quality(90)/discogs-images/R-31530-1259241245.jpeg.jpg', 'uri150': 'https://img.discogs.com/kjkvQ7Tg7QiMXQJ8LCddyxuO8VU=/fit-in/150x150/filters:strip_icc():format(jpeg):mode_rgb():quality(40)/discogs-images/R-31530-1259241245.jpeg.jpg', 'width': 587, 'height': 600}, {'type': 'secondary', 'uri': 'https://img.discogs.com/EzTJe-SrrwjHwO1HuXw3sEVyBxc=/fit-in/400x391/filters:strip_icc():format(jpeg):mode_rgb():quality(90)/discogs-images/R-31530-001.jpg.jpg', 'resource_url': 'https://img.discogs.com/EzTJe-SrrwjHwO1HuXw3sEVyBxc=/fit-in/400x391/filters:strip_icc():format(jpeg):mode_rgb():quality(90)/discogs-images/R-31530-001.jpg.jpg', 'uri150': 'https://img.discogs.com/cVzV_ZlhDBdp30Uun4EhdrG2EYs=/fit-in/150x150/filters:strip_icc():format(jpeg):mode_rgb():quality(40)/discogs-images/R-31530-001.jpg.jpg', 'width': 400, 'height': 391}, {'type': 'secondary', 'uri': 'https://img.discogs.com/cSQpKLpP3lso5MyYll9Muvbtxqk=/fit-in/400x390/filters:strip_icc():format(jpeg):mode_rgb():quality(90)/discogs-images/R-31530-002.jpg.jpg', 'resource_url': 'https://img.discogs.com/cSQpKLpP3lso5MyYll9Muvbtxqk=/fit-in/400x390/filters:strip_icc():format(jpeg):mode_rgb():quality(90)/discogs-images/R-31530-002.jpg.jpg', 'uri150': 'https://img.discogs.com/Fbx4r54SbDFkcRsw3WYUafA2nmA=/fit-in/150x150/filters:strip_icc():format(jpeg):mode_rgb():quality(40)/discogs-images/R-31530-002.jpg.jpg', 'width': 400, 'height': 390}],\n                genres = ['Electronic'],\n                styles = ['Electro', 'House'],\n                year = 2000,\n                tracklist = [{'position': 'A', 'type_': 'track', 'title': 'Pressin On (Dismal Future Mix Part 3)', 'duration': ''}, {'position': 'B', 'type_': 'track', 'title': 'Pressin On (Instrumental & Acapella Mix)', 'duration': ''}],\n                artists = [{'name': 'Foremost Poets', 'anv': '', 'join': '', 'role': '', 'tracks': '', 'id': 6272, 'resource_url': 'https://api.discogs.com/artists/6272', 'thumbnail_url': 'https://img.discogs.com/y4pgbuKDJULeb9dnL223IMet34w=/600x337/smart/filters:strip_icc():format(jpeg):mode_rgb():quality(40)/discogs-images/A-6272-1494888742-4740.png.jpg'}],\n                title = Pressin On,\n                data_quality = Correct,\n                videos = [{'uri': 'https://www.youtube.com/watch?v=uOiMpLhpuU0', 'title': 'Foremost Poets \\u200e- Pressin On ( Instrumental & Accapella )', 'description': 'https://www.discogs.com/Foremost-Poets-Pressin-On/release/31530\\n\\nForemost Poets \\u200e- Pressin On ( Instrumental & Accapella )\\n\\nFacebook - http://www.facebook.com/Techno-Classic-520383014796590/?ref=tn_tnmn\\n\\nTwitter - http://twitter.com/TechnoC1assic\\n\\nGoogl', 'duration': 296, 'embed': True}, {'uri': 'https://www.youtube.com/watch?v=9fLGXtl2ibE', 'title': 'Foremost Poets - Pressin On (Dismal Future Mix Part 3) [GIGOLO 41]', 'description': 'https://www.discogs.com/Foremost-Poets-Pressin-On/release/31530', 'duration': 511, 'embed': True}]\n                "
     },
     "execution_count": 9,
     "metadata": {},
     "output_type": "execute_result"
    }
   ],
   "source": [
    "master"
   ],
   "metadata": {
    "collapsed": false,
    "pycharm": {
     "name": "#%%\n"
    }
   }
  },
  {
   "cell_type": "code",
   "execution_count": null,
   "outputs": [],
   "source": [],
   "metadata": {
    "collapsed": false,
    "pycharm": {
     "name": "#%%\n"
    }
   }
  }
 ],
 "metadata": {
  "kernelspec": {
   "display_name": "Python 3 (ipykernel)",
   "language": "python",
   "name": "python3"
  },
  "language_info": {
   "codemirror_mode": {
    "name": "ipython",
    "version": 3
   },
   "file_extension": ".py",
   "mimetype": "text/x-python",
   "name": "python",
   "nbconvert_exporter": "python",
   "pygments_lexer": "ipython3",
   "version": "3.9.4"
  }
 },
 "nbformat": 4,
 "nbformat_minor": 1
}