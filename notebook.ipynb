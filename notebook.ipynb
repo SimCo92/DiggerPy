{
 "cells": [
  {
   "cell_type": "code",
   "execution_count": 1,
   "metadata": {},
   "outputs": [],
   "source": [
    "from diggerpy.functions import get_search, get_master\n",
    "from diggerpy.client import get_access_token\n",
    "from diggerpy.utils import get_search_obj\n",
    "from diggerpy.models import SearchItem, Master"
   ]
  },
  {
   "cell_type": "code",
   "execution_count": 2,
   "metadata": {
    "pycharm": {
     "name": "#%%\n"
    }
   },
   "outputs": [],
   "source": [
    "from diggerpy.secrets import access_token\n",
    "# in case you want to renew the token\n",
    "# access_token = get_access_token()"
   ]
  },
  {
   "cell_type": "code",
   "execution_count": 3,
   "outputs": [],
   "source": [
    "query = {\n",
    "    \"title\" : \"I want to break free\",\n",
    "    \"artist\" : \"queen\"\n",
    "}\n",
    "query2 = {\n",
    "    \"q\" : \"I want to break free queen\",\n",
    "}\n",
    "\n",
    "query_str = \"Foremost Poets - Pressin On\""
   ],
   "metadata": {
    "collapsed": false,
    "pycharm": {
     "name": "#%%\n"
    }
   }
  },
  {
   "cell_type": "code",
   "execution_count": 4,
   "metadata": {
    "pycharm": {
     "name": "#%%\n"
    }
   },
   "outputs": [],
   "source": [
    "search_obj = get_search_obj(query2)\n",
    "result = get_search(search_obj=search_obj, access_token=access_token)\n",
    "result[\"results\"][0]\n",
    "searchitem = SearchItem(**result[\"results\"][0])"
   ]
  },
  {
   "cell_type": "code",
   "execution_count": 5,
   "outputs": [
    {
     "data": {
      "text/plain": "\n                country = UK,\n                year = 1984,\n                format = ['Vinyl', '7\"', '45 RPM', 'Single'],\n                label = ['EMI'],\n                type = master,\n                genre = ['Rock'],\n                style = ['Pop Rock'],\n                id = 14881,\n                barcode = ['QUEEN 2A-5-1-Q-2-18  NICKZ Penthouse', 'QUEEN 2 A-4-1-2-1 NICKZ Penthouse', 'QUEEN 2 B-4-4-1- '],\n                user_data = {'in_wantlist': False, 'in_collection': False},\n                master_id = 14881,\n                master_url = https://api.discogs.com/masters/14881,\n                uri = /master/14881-Queen-I-Want-To-Break-Free,\n                catno = QUEEN 2,\n                title = Queen - I Want To Break Free,\n                thumb = https://img.discogs.com/zikOaW1sT9fJf8-_TQzKLZ__rxU=/fit-in/150x150/filters:strip_icc():format(jpeg):mode_rgb():quality(40)/discogs-images/R-1545900-1227435115.jpeg.jpg,\n                cover_image = https://img.discogs.com/TK4-7R_R0zML25L1TSKDAno-8Lc=/fit-in/600x601/filters:strip_icc():format(jpeg):mode_rgb():quality(90)/discogs-images/R-1545900-1227435115.jpeg.jpg,\n                resource_url = https://api.discogs.com/masters/14881,\n                community = {'want': 10134, 'have': 13057},\n                format_quantity = None,\n                formats = None\n                "
     },
     "execution_count": 5,
     "metadata": {},
     "output_type": "execute_result"
    }
   ],
   "source": [
    "searchitem"
   ],
   "metadata": {
    "collapsed": false,
    "pycharm": {
     "name": "#%%\n"
    }
   }
  },
  {
   "cell_type": "code",
   "execution_count": 6,
   "outputs": [],
   "source": [
    "raw_master = get_master(search_obj=search_obj, access_token=access_token)\n",
    "master = Master(**raw_master)"
   ],
   "metadata": {
    "collapsed": false,
    "pycharm": {
     "name": "#%%\n"
    }
   }
  },
  {
   "cell_type": "code",
   "execution_count": 7,
   "outputs": [
    {
     "data": {
      "text/plain": "{'id': 14881,\n 'main_release': 1545900,\n 'most_recent_release': 4984523,\n 'resource_url': 'https://api.discogs.com/masters/14881',\n 'uri': 'https://www.discogs.com/master/14881-Queen-I-Want-To-Break-Free',\n 'versions_url': 'https://api.discogs.com/masters/14881/versions',\n 'main_release_url': 'https://api.discogs.com/releases/1545900',\n 'most_recent_release_url': 'https://api.discogs.com/releases/4984523',\n 'num_for_sale': 540,\n 'lowest_price': 1.01,\n 'images': [{'type': 'primary',\n   'uri': 'https://img.discogs.com/TK4-7R_R0zML25L1TSKDAno-8Lc=/fit-in/600x601/filters:strip_icc():format(jpeg):mode_rgb():quality(90)/discogs-images/R-1545900-1227435115.jpeg.jpg',\n   'resource_url': 'https://img.discogs.com/TK4-7R_R0zML25L1TSKDAno-8Lc=/fit-in/600x601/filters:strip_icc():format(jpeg):mode_rgb():quality(90)/discogs-images/R-1545900-1227435115.jpeg.jpg',\n   'uri150': 'https://img.discogs.com/zikOaW1sT9fJf8-_TQzKLZ__rxU=/fit-in/150x150/filters:strip_icc():format(jpeg):mode_rgb():quality(40)/discogs-images/R-1545900-1227435115.jpeg.jpg',\n   'width': 600,\n   'height': 601},\n  {'type': 'secondary',\n   'uri': 'https://img.discogs.com/0CdocDlerakJa6ImegMZCt-B4H0=/fit-in/600x600/filters:strip_icc():format(jpeg):mode_rgb():quality(90)/discogs-images/R-1545900-1227435138.jpeg.jpg',\n   'resource_url': 'https://img.discogs.com/0CdocDlerakJa6ImegMZCt-B4H0=/fit-in/600x600/filters:strip_icc():format(jpeg):mode_rgb():quality(90)/discogs-images/R-1545900-1227435138.jpeg.jpg',\n   'uri150': 'https://img.discogs.com/T66peuMxeJE7Zj8l-NGqmqGjr30=/fit-in/150x150/filters:strip_icc():format(jpeg):mode_rgb():quality(40)/discogs-images/R-1545900-1227435138.jpeg.jpg',\n   'width': 600,\n   'height': 600},\n  {'type': 'secondary',\n   'uri': 'https://img.discogs.com/HiTdgxyWFYaOvSlsnk-__CdyTks=/fit-in/600x590/filters:strip_icc():format(jpeg):mode_rgb():quality(90)/discogs-images/R-1545900-1227435164.jpeg.jpg',\n   'resource_url': 'https://img.discogs.com/HiTdgxyWFYaOvSlsnk-__CdyTks=/fit-in/600x590/filters:strip_icc():format(jpeg):mode_rgb():quality(90)/discogs-images/R-1545900-1227435164.jpeg.jpg',\n   'uri150': 'https://img.discogs.com/Y_BIn1ibSncvWfMOM39IuPBfm38=/fit-in/150x150/filters:strip_icc():format(jpeg):mode_rgb():quality(40)/discogs-images/R-1545900-1227435164.jpeg.jpg',\n   'width': 600,\n   'height': 590},\n  {'type': 'secondary',\n   'uri': 'https://img.discogs.com/rvQ1j55FwgXe6bWPAY6YSTduAdM=/fit-in/600x587/filters:strip_icc():format(jpeg):mode_rgb():quality(90)/discogs-images/R-1545900-1227435212.jpeg.jpg',\n   'resource_url': 'https://img.discogs.com/rvQ1j55FwgXe6bWPAY6YSTduAdM=/fit-in/600x587/filters:strip_icc():format(jpeg):mode_rgb():quality(90)/discogs-images/R-1545900-1227435212.jpeg.jpg',\n   'uri150': 'https://img.discogs.com/k97nZoc0y2_rNNwjCkXItx-M5w8=/fit-in/150x150/filters:strip_icc():format(jpeg):mode_rgb():quality(40)/discogs-images/R-1545900-1227435212.jpeg.jpg',\n   'width': 600,\n   'height': 587}],\n 'genres': ['Rock'],\n 'styles': ['Pop Rock'],\n 'year': 1984,\n 'tracklist': [{'position': 'A',\n   'type_': 'track',\n   'title': 'I Want To Break Free',\n   'extraartists': [{'name': 'John Deacon',\n     'anv': 'Deacon',\n     'join': '',\n     'role': 'Written-By',\n     'tracks': '',\n     'id': 268365,\n     'resource_url': 'https://api.discogs.com/artists/268365',\n     'thumbnail_url': 'https://img.discogs.com/W7d1ycdrPhKW5d_dJpY5fLi9jqA=/541x623/smart/filters:strip_icc():format(jpeg):mode_rgb():quality(40)/discogs-images/A-268365-1612035097-7085.png.jpg'}],\n   'duration': ''},\n  {'position': 'B',\n   'type_': 'track',\n   'title': 'Machines (Or \\'Back To Humans\")',\n   'extraartists': [{'name': 'Brian May',\n     'anv': 'May',\n     'join': '',\n     'role': 'Written-By',\n     'tracks': '',\n     'id': 253217,\n     'resource_url': 'https://api.discogs.com/artists/253217',\n     'thumbnail_url': 'https://img.discogs.com/xOCfd4gv3LLQQL4-RsRnAaEAsRo=/600x512/smart/filters:strip_icc():format(jpeg):mode_rgb():quality(40)/discogs-images/A-253217-1450919038-8119.jpeg.jpg'},\n    {'name': 'Roger Taylor',\n     'anv': 'Taylor',\n     'join': '',\n     'role': 'Written-By',\n     'tracks': '',\n     'id': 208268,\n     'resource_url': 'https://api.discogs.com/artists/208268',\n     'thumbnail_url': 'https://img.discogs.com/6kIpkBGeWCLuVSK9lAe6I0X2yjk=/600x800/smart/filters:strip_icc():format(jpeg):mode_rgb():quality(40)/discogs-images/A-208268-1612034639-6246.jpeg.jpg'}],\n   'duration': ''}],\n 'artists': [{'name': 'Queen',\n   'anv': '',\n   'join': '',\n   'role': '',\n   'tracks': '',\n   'id': 81013,\n   'resource_url': 'https://api.discogs.com/artists/81013',\n   'thumbnail_url': 'https://img.discogs.com/O2BlMJith2otgiJ1k8XBxX_2DmY=/595x600/smart/filters:strip_icc():format(jpeg):mode_rgb():quality(40)/discogs-images/A-81013-1211978659.jpeg.jpg'}],\n 'title': 'I Want To Break Free',\n 'notes': 'Originally released April 2, 1984 as the second single to be lifted from the \"The Works\" album.\\r\\n\\r\\nThis grouping assembles the single/maxi releases, re-releases and other variations where \"I Want To Break Free\" receives A-side/top billing (\"Machines\" is the most-often used B-side).\\r\\n\\r\\nIn most countries the 7\\'\\' single plays a remixed version (4:21) of \"I Want To Break Free\", although some (eg the [url=http://www.discogs.com/Queen-I-Want-To-Break-Free/release/5342331]Portugal 7\\'\\'[/url]) play \"The Works\" album mix (3:20).\\r\\n\\r\\nSome countries releases also come in multiple sleeve designs - none more so than the UK 7\\'\\':\\r\\nThere are four different design sleeves - one with each group member on the front, plus plain sleeve\\r\\nThere are two variations in the sleeve manufacture (some made of card, some of paper)\\r\\nThere are two variations in the lettering print colour on the sleeve front (White or Gold)\\r\\nThere are five label variations (Black paper push-out centre, Black paper solid centre, Blue paper push-out centre, Silver Injection and Blue Injection)\\r\\n(so potentially that is 5×2×2×5 = 100 permutations if they actually existed!)\\r\\n\\r\\nFTF field 3 letter abreviation key:\\r\\nF=Freddie R=Roger B=Brian J=John\\r\\nC=Card P=Paper\\r\\nG=Gold W=White',\n 'data_quality': 'Correct',\n 'videos': [{'uri': 'https://www.youtube.com/watch?v=f4Mc-NYPHaQ',\n   'title': 'Queen - I Want To Break Free (Official Video)',\n   'description': \"Click here to buy the DVD with this video at the Official Queen Store:\\nhttp://www.queenonlinestore.com\\n\\nThe official 'I Want To Break Free' music video. Taken from Queen - 'Greatest Video Hits 2'.\\n\\nSubscribe to the official Queen channel Here https://Quee\",\n   'duration': 272,\n   'embed': True},\n  {'uri': 'https://www.youtube.com/watch?v=tPY_o-VlBuk',\n   'title': 'Queen - I Want To Break Free (Extended Mix)',\n   'description': '',\n   'duration': 426,\n   'embed': True},\n  {'uri': 'https://www.youtube.com/watch?v=aX6vPWW8n-I',\n   'title': 'Queen - Machines (Or Back To Humans) (Official Lyric Video)',\n   'description': \"Taken from The Works, 1984.\\nSing along to 'Good Company' with this official karaoke style Queen lyric video.\\n\\nSubscribe to the official Queen channel Here https://Queen.lnk.to/Subscribe\\nWatch more: https://Queen.lnk.to/OfficialLyricVideos\\n\\nAbout Queen:\\nWe\",\n   'duration': 317,\n   'embed': True}]}"
     },
     "execution_count": 7,
     "metadata": {},
     "output_type": "execute_result"
    }
   ],
   "source": [
    "raw_master"
   ],
   "metadata": {
    "collapsed": false,
    "pycharm": {
     "name": "#%%\n"
    }
   }
  },
  {
   "cell_type": "code",
   "execution_count": null,
   "outputs": [],
   "source": [],
   "metadata": {
    "collapsed": false,
    "pycharm": {
     "name": "#%%\n"
    }
   }
  }
 ],
 "metadata": {
  "kernelspec": {
   "display_name": "Python 3 (ipykernel)",
   "language": "python",
   "name": "python3"
  },
  "language_info": {
   "codemirror_mode": {
    "name": "ipython",
    "version": 3
   },
   "file_extension": ".py",
   "mimetype": "text/x-python",
   "name": "python",
   "nbconvert_exporter": "python",
   "pygments_lexer": "ipython3",
   "version": "3.9.4"
  }
 },
 "nbformat": 4,
 "nbformat_minor": 1
}