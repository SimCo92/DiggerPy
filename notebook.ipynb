{
 "cells": [
  {
   "cell_type": "code",
   "execution_count": 1,
   "metadata": {},
   "outputs": [],
   "source": [
    "from diggerpy.functions import get_search, get_search_v2\n",
    "from diggerpy.client import get_access_token\n",
    "from diggerpy.utils import get_search_obj"
   ]
  },
  {
   "cell_type": "code",
   "execution_count": 2,
   "metadata": {
    "pycharm": {
     "name": "#%%\n"
    }
   },
   "outputs": [],
   "source": [
    "from diggerpy.secrets import access_token\n",
    "# in case you want to renew the token\n",
    "# access_token = get_access_token()"
   ]
  },
  {
   "cell_type": "code",
   "execution_count": 4,
   "outputs": [],
   "source": [
    "query = {\n",
    "    \"title\" : \"I want to break free\",\n",
    "    \"artist\" : \"queen\"\n",
    "}\n",
    "query2 = {\n",
    "    \"q\" : \"I want to break free queen\",\n",
    "}\n",
    "\n",
    "query_str = \"Foremost Poets - Pressin On\""
   ],
   "metadata": {
    "collapsed": false,
    "pycharm": {
     "name": "#%%\n"
    }
   }
  },
  {
   "cell_type": "code",
   "execution_count": 6,
   "metadata": {
    "pycharm": {
     "name": "#%%\n"
    }
   },
   "outputs": [],
   "source": [
    "search_obj = get_search_obj(query_str)\n",
    "result = get_search_v2(search_obj=search_obj, access_token=access_token)"
   ]
  },
  {
   "cell_type": "code",
   "execution_count": 7,
   "outputs": [
    {
     "data": {
      "text/plain": "{'id': 561562,\n 'main_release': 31530,\n 'most_recent_release': 31530,\n 'resource_url': 'https://api.discogs.com/masters/561562',\n 'uri': 'https://www.discogs.com/master/561562-Foremost-Poets-Pressin-On',\n 'versions_url': 'https://api.discogs.com/masters/561562/versions',\n 'main_release_url': 'https://api.discogs.com/releases/31530',\n 'most_recent_release_url': 'https://api.discogs.com/releases/31530',\n 'num_for_sale': 17,\n 'lowest_price': 45.45,\n 'images': [{'type': 'primary',\n   'uri': 'https://img.discogs.com/3h6I726gOFMSniExMSX2N0LdBqM=/fit-in/587x600/filters:strip_icc():format(jpeg):mode_rgb():quality(90)/discogs-images/R-31530-1259241245.jpeg.jpg',\n   'resource_url': 'https://img.discogs.com/3h6I726gOFMSniExMSX2N0LdBqM=/fit-in/587x600/filters:strip_icc():format(jpeg):mode_rgb():quality(90)/discogs-images/R-31530-1259241245.jpeg.jpg',\n   'uri150': 'https://img.discogs.com/kjkvQ7Tg7QiMXQJ8LCddyxuO8VU=/fit-in/150x150/filters:strip_icc():format(jpeg):mode_rgb():quality(40)/discogs-images/R-31530-1259241245.jpeg.jpg',\n   'width': 587,\n   'height': 600},\n  {'type': 'secondary',\n   'uri': 'https://img.discogs.com/EzTJe-SrrwjHwO1HuXw3sEVyBxc=/fit-in/400x391/filters:strip_icc():format(jpeg):mode_rgb():quality(90)/discogs-images/R-31530-001.jpg.jpg',\n   'resource_url': 'https://img.discogs.com/EzTJe-SrrwjHwO1HuXw3sEVyBxc=/fit-in/400x391/filters:strip_icc():format(jpeg):mode_rgb():quality(90)/discogs-images/R-31530-001.jpg.jpg',\n   'uri150': 'https://img.discogs.com/cVzV_ZlhDBdp30Uun4EhdrG2EYs=/fit-in/150x150/filters:strip_icc():format(jpeg):mode_rgb():quality(40)/discogs-images/R-31530-001.jpg.jpg',\n   'width': 400,\n   'height': 391},\n  {'type': 'secondary',\n   'uri': 'https://img.discogs.com/cSQpKLpP3lso5MyYll9Muvbtxqk=/fit-in/400x390/filters:strip_icc():format(jpeg):mode_rgb():quality(90)/discogs-images/R-31530-002.jpg.jpg',\n   'resource_url': 'https://img.discogs.com/cSQpKLpP3lso5MyYll9Muvbtxqk=/fit-in/400x390/filters:strip_icc():format(jpeg):mode_rgb():quality(90)/discogs-images/R-31530-002.jpg.jpg',\n   'uri150': 'https://img.discogs.com/Fbx4r54SbDFkcRsw3WYUafA2nmA=/fit-in/150x150/filters:strip_icc():format(jpeg):mode_rgb():quality(40)/discogs-images/R-31530-002.jpg.jpg',\n   'width': 400,\n   'height': 390}],\n 'genres': ['Electronic'],\n 'styles': ['Electro', 'House'],\n 'year': 2000,\n 'tracklist': [{'position': 'A',\n   'type_': 'track',\n   'title': 'Pressin On (Dismal Future Mix Part 3)',\n   'duration': ''},\n  {'position': 'B',\n   'type_': 'track',\n   'title': 'Pressin On (Instrumental & Acapella Mix)',\n   'duration': ''}],\n 'artists': [{'name': 'Foremost Poets',\n   'anv': '',\n   'join': '',\n   'role': '',\n   'tracks': '',\n   'id': 6272,\n   'resource_url': 'https://api.discogs.com/artists/6272',\n   'thumbnail_url': 'https://img.discogs.com/y4pgbuKDJULeb9dnL223IMet34w=/600x337/smart/filters:strip_icc():format(jpeg):mode_rgb():quality(40)/discogs-images/A-6272-1494888742-4740.png.jpg'}],\n 'title': 'Pressin On',\n 'data_quality': 'Correct',\n 'videos': [{'uri': 'https://www.youtube.com/watch?v=uOiMpLhpuU0',\n   'title': 'Foremost Poets \\u200e- Pressin On ( Instrumental & Accapella )',\n   'description': 'https://www.discogs.com/Foremost-Poets-Pressin-On/release/31530\\n\\nForemost Poets \\u200e- Pressin On ( Instrumental & Accapella )\\n\\nFacebook - http://www.facebook.com/Techno-Classic-520383014796590/?ref=tn_tnmn\\n\\nTwitter - http://twitter.com/TechnoC1assic\\n\\nGoogl',\n   'duration': 296,\n   'embed': True},\n  {'uri': 'https://www.youtube.com/watch?v=9fLGXtl2ibE',\n   'title': 'Foremost Poets - Pressin On (Dismal Future Mix Part 3) [GIGOLO 41]',\n   'description': 'https://www.discogs.com/Foremost-Poets-Pressin-On/release/31530',\n   'duration': 511,\n   'embed': True}]}"
     },
     "execution_count": 7,
     "metadata": {},
     "output_type": "execute_result"
    }
   ],
   "source": [
    "result"
   ],
   "metadata": {
    "collapsed": false,
    "pycharm": {
     "name": "#%%\n"
    }
   }
  }
 ],
 "metadata": {
  "kernelspec": {
   "display_name": "Python 3 (ipykernel)",
   "language": "python",
   "name": "python3"
  },
  "language_info": {
   "codemirror_mode": {
    "name": "ipython",
    "version": 3
   },
   "file_extension": ".py",
   "mimetype": "text/x-python",
   "name": "python",
   "nbconvert_exporter": "python",
   "pygments_lexer": "ipython3",
   "version": "3.9.4"
  }
 },
 "nbformat": 4,
 "nbformat_minor": 1
}